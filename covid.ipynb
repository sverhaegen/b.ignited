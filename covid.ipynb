{
 "cells": [
  {
   "cell_type": "code",
   "execution_count": 2,
   "metadata": {},
   "outputs": [],
   "source": [
    "import pandas as pd\n",
    "import requests \n",
    "import glob"
   ]
  },
  {
   "cell_type": "markdown",
   "metadata": {},
   "source": [
    "## Get the total population per country. "
   ]
  },
  {
   "cell_type": "code",
   "execution_count": 3,
   "metadata": {},
   "outputs": [
    {
     "name": "stdout",
     "output_type": "stream",
     "text": [
      "{'name': {'common': 'Paraguay', 'official': 'Republic of Paraguay', 'nativeName': {'grn': {'official': 'Tetã Paraguái', 'common': 'Paraguái'}, 'spa': {'official': 'República de Paraguay', 'common': 'Paraguay'}}}, 'tld': ['.py'], 'cca2': 'PY', 'ccn3': '600', 'cca3': 'PRY', 'cioc': 'PAR', 'independent': True, 'status': 'officially-assigned', 'unMember': True, 'currencies': {'PYG': {'name': 'Paraguayan guaraní', 'symbol': '₲'}}, 'idd': {'root': '+5', 'suffixes': ['95']}, 'capital': ['Asunción'], 'altSpellings': ['PY', 'Republic of Paraguay', 'República del Paraguay', 'Tetã Paraguái'], 'region': 'Americas', 'subregion': 'South America', 'languages': {'grn': 'Guaraní', 'spa': 'Spanish'}, 'translations': {'ara': {'official': 'جمهورية باراغواي', 'common': 'باراغواي'}, 'ces': {'official': 'Paraguayská republika', 'common': 'Paraguay'}, 'cym': {'official': 'Republic of Paraguay', 'common': 'Paraguay'}, 'deu': {'official': 'Republik Paraguay', 'common': 'Paraguay'}, 'est': {'official': 'Paraguay Vabariik', 'common': 'Paraguay'}, 'fin': {'official': 'Paraguayn tasavalta', 'common': 'Paraguay'}, 'fra': {'official': 'République du Paraguay', 'common': 'Paraguay'}, 'hrv': {'official': 'Republika Paragvaj', 'common': 'Paragvaj'}, 'hun': {'official': 'Paraguayi Köztársaság', 'common': 'Paraguay'}, 'ita': {'official': 'Repubblica del Paraguay', 'common': 'Paraguay'}, 'jpn': {'official': 'パラグアイ共和国', 'common': 'パラグアイ'}, 'kor': {'official': '파라과이 공화국', 'common': '파라과이'}, 'nld': {'official': 'Republiek Paraguay', 'common': 'Paraguay'}, 'per': {'official': 'جمهوری پاراگوئه', 'common': 'پاراگوئه'}, 'pol': {'official': 'Republika Paragwaju', 'common': 'Paragwaj'}, 'por': {'official': 'República do Paraguai', 'common': 'Paraguai'}, 'rus': {'official': 'Республика Парагвай', 'common': 'Парагвай'}, 'slk': {'official': 'Paraguajská republika', 'common': 'Paraguaj'}, 'spa': {'official': 'República de Paraguay', 'common': 'Paraguay'}, 'swe': {'official': 'Republiken Paraguay', 'common': 'Paraguay'}, 'urd': {'official': 'جمہوریہ پیراگوئے', 'common': 'پیراگوئے'}, 'zho': {'official': '巴拉圭共和国', 'common': '巴拉圭'}}, 'latlng': [-23.0, -58.0], 'landlocked': True, 'borders': ['ARG', 'BOL', 'BRA'], 'area': 406752.0, 'demonyms': {'eng': {'f': 'Paraguayan', 'm': 'Paraguayan'}, 'fra': {'f': 'Paraguayenne', 'm': 'Paraguayen'}}, 'flag': '🇵🇾', 'maps': {'googleMaps': 'https://goo.gl/maps/JtnqG73WJn1Gx6mz6', 'openStreetMaps': 'https://www.openstreetmap.org/relation/287077'}, 'population': 7132530, 'gini': {'2019': 45.7}, 'fifa': 'PAR', 'car': {'signs': ['PY'], 'side': 'right'}, 'timezones': ['UTC-04:00'], 'continents': ['South America'], 'flags': {'png': 'https://flagcdn.com/w320/py.png', 'svg': 'https://flagcdn.com/py.svg'}, 'coatOfArms': {'png': 'https://mainfacts.com/media/images/coats_of_arms/py.png', 'svg': 'https://mainfacts.com/media/images/coats_of_arms/py.svg'}, 'startOfWeek': 'monday', 'capitalInfo': {'latlng': [-25.28, -57.57]}, 'postalCode': {'format': '####', 'regex': '^(\\\\d{4})$'}}\n"
     ]
    }
   ],
   "source": [
    "restcountries = requests.get('https://restcountries.com/v3.1/all')\n",
    "restcountries_json = restcountries.json()\n",
    "print(restcountries_json[1])"
   ]
  },
  {
   "cell_type": "code",
   "execution_count": 4,
   "metadata": {},
   "outputs": [
    {
     "name": "stdout",
     "output_type": "stream",
     "text": [
      "Uruguay\n"
     ]
    }
   ],
   "source": [
    "print(restcountries_json[0][\"name\"][\"common\"])"
   ]
  },
  {
   "cell_type": "code",
   "execution_count": 5,
   "metadata": {},
   "outputs": [
    {
     "name": "stdout",
     "output_type": "stream",
     "text": [
      "3473727\n"
     ]
    }
   ],
   "source": [
    "print(restcountries_json[0][\"population\"])"
   ]
  },
  {
   "cell_type": "code",
   "execution_count": 6,
   "metadata": {},
   "outputs": [],
   "source": [
    "country_name = []\n",
    "country_population = []\n",
    "\n",
    "for i in range(len(restcountries_json)):\n",
    "    country_name.append(restcountries_json[i][\"name\"][\"common\"])\n",
    "    country_population.append(restcountries_json[i][\"population\"])"
   ]
  },
  {
   "cell_type": "code",
   "execution_count": 7,
   "metadata": {},
   "outputs": [],
   "source": [
    "restcountries_dict = {\"country_name\" : country_name,\n",
    "                      \"country_population\" : country_population}"
   ]
  },
  {
   "cell_type": "code",
   "execution_count": 8,
   "metadata": {},
   "outputs": [
    {
     "data": {
      "text/html": [
       "<div>\n",
       "<style scoped>\n",
       "    .dataframe tbody tr th:only-of-type {\n",
       "        vertical-align: middle;\n",
       "    }\n",
       "\n",
       "    .dataframe tbody tr th {\n",
       "        vertical-align: top;\n",
       "    }\n",
       "\n",
       "    .dataframe thead th {\n",
       "        text-align: right;\n",
       "    }\n",
       "</style>\n",
       "<table border=\"1\" class=\"dataframe\">\n",
       "  <thead>\n",
       "    <tr style=\"text-align: right;\">\n",
       "      <th></th>\n",
       "      <th>country_name</th>\n",
       "      <th>country_population</th>\n",
       "    </tr>\n",
       "  </thead>\n",
       "  <tbody>\n",
       "    <tr>\n",
       "      <th>0</th>\n",
       "      <td>Uruguay</td>\n",
       "      <td>3473727</td>\n",
       "    </tr>\n",
       "    <tr>\n",
       "      <th>1</th>\n",
       "      <td>Paraguay</td>\n",
       "      <td>7132530</td>\n",
       "    </tr>\n",
       "    <tr>\n",
       "      <th>2</th>\n",
       "      <td>Gambia</td>\n",
       "      <td>2416664</td>\n",
       "    </tr>\n",
       "    <tr>\n",
       "      <th>3</th>\n",
       "      <td>Djibouti</td>\n",
       "      <td>988002</td>\n",
       "    </tr>\n",
       "    <tr>\n",
       "      <th>4</th>\n",
       "      <td>Martinique</td>\n",
       "      <td>378243</td>\n",
       "    </tr>\n",
       "    <tr>\n",
       "      <th>...</th>\n",
       "      <td>...</td>\n",
       "      <td>...</td>\n",
       "    </tr>\n",
       "    <tr>\n",
       "      <th>245</th>\n",
       "      <td>Falkland Islands</td>\n",
       "      <td>2563</td>\n",
       "    </tr>\n",
       "    <tr>\n",
       "      <th>246</th>\n",
       "      <td>Portugal</td>\n",
       "      <td>10305564</td>\n",
       "    </tr>\n",
       "    <tr>\n",
       "      <th>247</th>\n",
       "      <td>Guinea-Bissau</td>\n",
       "      <td>1967998</td>\n",
       "    </tr>\n",
       "    <tr>\n",
       "      <th>248</th>\n",
       "      <td>Saint Martin</td>\n",
       "      <td>38659</td>\n",
       "    </tr>\n",
       "    <tr>\n",
       "      <th>249</th>\n",
       "      <td>Tanzania</td>\n",
       "      <td>59734213</td>\n",
       "    </tr>\n",
       "  </tbody>\n",
       "</table>\n",
       "<p>250 rows × 2 columns</p>\n",
       "</div>"
      ],
      "text/plain": [
       "         country_name  country_population\n",
       "0             Uruguay             3473727\n",
       "1            Paraguay             7132530\n",
       "2              Gambia             2416664\n",
       "3            Djibouti              988002\n",
       "4          Martinique              378243\n",
       "..                ...                 ...\n",
       "245  Falkland Islands                2563\n",
       "246          Portugal            10305564\n",
       "247     Guinea-Bissau             1967998\n",
       "248      Saint Martin               38659\n",
       "249          Tanzania            59734213\n",
       "\n",
       "[250 rows x 2 columns]"
      ]
     },
     "execution_count": 8,
     "metadata": {},
     "output_type": "execute_result"
    }
   ],
   "source": [
    "restcountries_df = pd.DataFrame(restcountries_dict)\n",
    "restcountries_df"
   ]
  },
  {
   "cell_type": "markdown",
   "metadata": {},
   "source": [
    "Population of Belgium"
   ]
  },
  {
   "cell_type": "code",
   "execution_count": 9,
   "metadata": {},
   "outputs": [
    {
     "data": {
      "text/plain": [
       "176    11555997\n",
       "Name: country_population, dtype: int64"
      ]
     },
     "execution_count": 9,
     "metadata": {},
     "output_type": "execute_result"
    }
   ],
   "source": [
    "restcountries_df[restcountries_df[\"country_name\"] == \"Belgium\"][\"country_population\"]"
   ]
  },
  {
   "cell_type": "markdown",
   "metadata": {},
   "source": [
    "## Get the vaccines that are currently being used "
   ]
  },
  {
   "cell_type": "code",
   "execution_count": 10,
   "metadata": {},
   "outputs": [
    {
     "data": {
      "text/html": [
       "<div>\n",
       "<style scoped>\n",
       "    .dataframe tbody tr th:only-of-type {\n",
       "        vertical-align: middle;\n",
       "    }\n",
       "\n",
       "    .dataframe tbody tr th {\n",
       "        vertical-align: top;\n",
       "    }\n",
       "\n",
       "    .dataframe thead th {\n",
       "        text-align: right;\n",
       "    }\n",
       "</style>\n",
       "<table border=\"1\" class=\"dataframe\">\n",
       "  <thead>\n",
       "    <tr style=\"text-align: right;\">\n",
       "      <th></th>\n",
       "      <th>location</th>\n",
       "      <th>date</th>\n",
       "      <th>vaccine</th>\n",
       "      <th>year</th>\n",
       "      <th>month</th>\n",
       "    </tr>\n",
       "  </thead>\n",
       "  <tbody>\n",
       "    <tr>\n",
       "      <th>0</th>\n",
       "      <td>Ethiopia</td>\n",
       "      <td>2021-04-08</td>\n",
       "      <td>Oxford/AstraZeneca, Sinopharm/Beijing, Sinovac</td>\n",
       "      <td>2021</td>\n",
       "      <td>4</td>\n",
       "    </tr>\n",
       "    <tr>\n",
       "      <th>1</th>\n",
       "      <td>Ethiopia</td>\n",
       "      <td>2021-04-28</td>\n",
       "      <td>Oxford/AstraZeneca, Sinopharm/Beijing, Sinovac</td>\n",
       "      <td>2021</td>\n",
       "      <td>4</td>\n",
       "    </tr>\n",
       "    <tr>\n",
       "      <th>2</th>\n",
       "      <td>Ethiopia</td>\n",
       "      <td>2021-04-29</td>\n",
       "      <td>Oxford/AstraZeneca, Sinopharm/Beijing, Sinovac</td>\n",
       "      <td>2021</td>\n",
       "      <td>4</td>\n",
       "    </tr>\n",
       "    <tr>\n",
       "      <th>3</th>\n",
       "      <td>Ethiopia</td>\n",
       "      <td>2021-04-30</td>\n",
       "      <td>Oxford/AstraZeneca, Sinopharm/Beijing, Sinovac</td>\n",
       "      <td>2021</td>\n",
       "      <td>4</td>\n",
       "    </tr>\n",
       "    <tr>\n",
       "      <th>4</th>\n",
       "      <td>Ethiopia</td>\n",
       "      <td>2021-05-01</td>\n",
       "      <td>Oxford/AstraZeneca, Sinopharm/Beijing, Sinovac</td>\n",
       "      <td>2021</td>\n",
       "      <td>5</td>\n",
       "    </tr>\n",
       "    <tr>\n",
       "      <th>...</th>\n",
       "      <td>...</td>\n",
       "      <td>...</td>\n",
       "      <td>...</td>\n",
       "      <td>...</td>\n",
       "      <td>...</td>\n",
       "    </tr>\n",
       "    <tr>\n",
       "      <th>158</th>\n",
       "      <td>Guinea</td>\n",
       "      <td>2022-03-13</td>\n",
       "      <td>Johnson&amp;Johnson, Oxford/AstraZeneca, Pfizer/Bi...</td>\n",
       "      <td>2022</td>\n",
       "      <td>3</td>\n",
       "    </tr>\n",
       "    <tr>\n",
       "      <th>159</th>\n",
       "      <td>Guinea</td>\n",
       "      <td>2022-03-16</td>\n",
       "      <td>Johnson&amp;Johnson, Oxford/AstraZeneca, Pfizer/Bi...</td>\n",
       "      <td>2022</td>\n",
       "      <td>3</td>\n",
       "    </tr>\n",
       "    <tr>\n",
       "      <th>160</th>\n",
       "      <td>Guinea</td>\n",
       "      <td>2022-03-21</td>\n",
       "      <td>Johnson&amp;Johnson, Oxford/AstraZeneca, Pfizer/Bi...</td>\n",
       "      <td>2022</td>\n",
       "      <td>3</td>\n",
       "    </tr>\n",
       "    <tr>\n",
       "      <th>161</th>\n",
       "      <td>Guinea</td>\n",
       "      <td>2022-04-26</td>\n",
       "      <td>Johnson&amp;Johnson, Oxford/AstraZeneca, Pfizer/Bi...</td>\n",
       "      <td>2022</td>\n",
       "      <td>4</td>\n",
       "    </tr>\n",
       "    <tr>\n",
       "      <th>162</th>\n",
       "      <td>Guinea</td>\n",
       "      <td>2022-05-01</td>\n",
       "      <td>Johnson&amp;Johnson, Oxford/AstraZeneca, Pfizer/Bi...</td>\n",
       "      <td>2022</td>\n",
       "      <td>5</td>\n",
       "    </tr>\n",
       "  </tbody>\n",
       "</table>\n",
       "<p>47400 rows × 5 columns</p>\n",
       "</div>"
      ],
      "text/plain": [
       "     location       date                                            vaccine  \\\n",
       "0    Ethiopia 2021-04-08     Oxford/AstraZeneca, Sinopharm/Beijing, Sinovac   \n",
       "1    Ethiopia 2021-04-28     Oxford/AstraZeneca, Sinopharm/Beijing, Sinovac   \n",
       "2    Ethiopia 2021-04-29     Oxford/AstraZeneca, Sinopharm/Beijing, Sinovac   \n",
       "3    Ethiopia 2021-04-30     Oxford/AstraZeneca, Sinopharm/Beijing, Sinovac   \n",
       "4    Ethiopia 2021-05-01     Oxford/AstraZeneca, Sinopharm/Beijing, Sinovac   \n",
       "..        ...        ...                                                ...   \n",
       "158    Guinea 2022-03-13  Johnson&Johnson, Oxford/AstraZeneca, Pfizer/Bi...   \n",
       "159    Guinea 2022-03-16  Johnson&Johnson, Oxford/AstraZeneca, Pfizer/Bi...   \n",
       "160    Guinea 2022-03-21  Johnson&Johnson, Oxford/AstraZeneca, Pfizer/Bi...   \n",
       "161    Guinea 2022-04-26  Johnson&Johnson, Oxford/AstraZeneca, Pfizer/Bi...   \n",
       "162    Guinea 2022-05-01  Johnson&Johnson, Oxford/AstraZeneca, Pfizer/Bi...   \n",
       "\n",
       "     year  month  \n",
       "0    2021      4  \n",
       "1    2021      4  \n",
       "2    2021      4  \n",
       "3    2021      4  \n",
       "4    2021      5  \n",
       "..    ...    ...  \n",
       "158  2022      3  \n",
       "159  2022      3  \n",
       "160  2022      3  \n",
       "161  2022      4  \n",
       "162  2022      5  \n",
       "\n",
       "[47400 rows x 5 columns]"
      ]
     },
     "execution_count": 10,
     "metadata": {},
     "output_type": "execute_result"
    }
   ],
   "source": [
    "vaccines_df = pd.concat(map(pd.read_csv, glob.glob('data/country_data/*.csv')))\n",
    "vaccines_df = vaccines_df[[\"location\", \"date\", \"vaccine\"]]\n",
    "vaccines_df[\"date\"] = pd.to_datetime(vaccines_df[\"date\"])\n",
    "vaccines_df[\"year\"] = vaccines_df[\"date\"].dt.year\n",
    "vaccines_df[\"month\"] = vaccines_df[\"date\"].dt.month\n",
    "vaccines_df"
   ]
  },
  {
   "cell_type": "markdown",
   "metadata": {},
   "source": [
    "List of the vaccines currently being used in Belgium. This information is located in the last row, which is the most recent recording."
   ]
  },
  {
   "cell_type": "code",
   "execution_count": 11,
   "metadata": {},
   "outputs": [
    {
     "data": {
      "text/plain": [
       "'Johnson&Johnson, Moderna, Novavax, Oxford/AstraZeneca, Pfizer/BioNTech'"
      ]
     },
     "execution_count": 11,
     "metadata": {},
     "output_type": "execute_result"
    }
   ],
   "source": [
    "vaccines_df[vaccines_df[\"location\"] == \"Belgium\"].iloc[-1][\"vaccine\"]"
   ]
  },
  {
   "cell_type": "markdown",
   "metadata": {},
   "source": [
    "## Get the total confirmed covid cases"
   ]
  },
  {
   "cell_type": "code",
   "execution_count": 12,
   "metadata": {},
   "outputs": [
    {
     "name": "stdout",
     "output_type": "stream",
     "text": [
      "[{'Country': 'Congo (Kinshasa)', 'Slug': 'congo-kinshasa', 'ISO2': 'CD'}, {'Country': 'Ecuador', 'Slug': 'ecuador', 'ISO2': 'EC'}, {'Country': 'Indonesia', 'Slug': 'indonesia', 'ISO2': 'ID'}, {'Country': 'Israel', 'Slug': 'israel', 'ISO2': 'IL'}, {'Country': 'Jamaica', 'Slug': 'jamaica', 'ISO2': 'JM'}, {'Country': 'Latvia', 'Slug': 'latvia', 'ISO2': 'LV'}, {'Country': 'Venezuela (Bolivarian Republic)', 'Slug': 'venezuela', 'ISO2': 'VE'}, {'Country': 'Bolivia', 'Slug': 'bolivia', 'ISO2': 'BO'}, {'Country': 'Bouvet Island', 'Slug': 'bouvet-island', 'ISO2': 'BV'}, {'Country': 'Chad', 'Slug': 'chad', 'ISO2': 'TD'}, {'Country': 'Iceland', 'Slug': 'iceland', 'ISO2': 'IS'}, {'Country': 'Palestinian Territory', 'Slug': 'palestine', 'ISO2': 'PS'}, {'Country': 'Paraguay', 'Slug': 'paraguay', 'ISO2': 'PY'}, {'Country': 'Serbia', 'Slug': 'serbia', 'ISO2': 'RS'}, {'Country': 'Turkey', 'Slug': 'turkey', 'ISO2': 'TR'}, {'Country': 'Albania', 'Slug': 'albania', 'ISO2': 'AL'}, {'Country': 'Djibouti', 'Slug': 'djibouti', 'ISO2': 'DJ'}, {'Country': 'Liberia', 'Slug': 'liberia', 'ISO2': 'LR'}, {'Country': 'Oman', 'Slug': 'oman', 'ISO2': 'OM'}, {'Country': 'Turkmenistan', 'Slug': 'turkmenistan', 'ISO2': 'TM'}, {'Country': 'Aruba', 'Slug': 'aruba', 'ISO2': 'AW'}, {'Country': 'British Virgin Islands', 'Slug': 'british-virgin-islands', 'ISO2': 'VG'}, {'Country': 'Angola', 'Slug': 'angola', 'ISO2': 'AO'}, {'Country': 'Timor-Leste', 'Slug': 'timor-leste', 'ISO2': 'TL'}, {'Country': 'South Georgia and the South Sandwich Islands', 'Slug': 'south-georgia-and-the-south-sandwich-islands', 'ISO2': 'GS'}, {'Country': 'Kyrgyzstan', 'Slug': 'kyrgyzstan', 'ISO2': 'KG'}, {'Country': 'South Sudan', 'Slug': 'south-sudan', 'ISO2': 'SS'}, {'Country': 'Spain', 'Slug': 'spain', 'ISO2': 'ES'}, {'Country': 'Cameroon', 'Slug': 'cameroon', 'ISO2': 'CM'}, {'Country': 'Dominica', 'Slug': 'dominica', 'ISO2': 'DM'}, {'Country': 'Holy See (Vatican City State)', 'Slug': 'holy-see-vatican-city-state', 'ISO2': 'VA'}, {'Country': 'Macedonia, Republic of', 'Slug': 'macedonia', 'ISO2': 'MK'}, {'Country': 'Montenegro', 'Slug': 'montenegro', 'ISO2': 'ME'}, {'Country': 'Saint Vincent and Grenadines', 'Slug': 'saint-vincent-and-the-grenadines', 'ISO2': 'VC'}, {'Country': 'Zimbabwe', 'Slug': 'zimbabwe', 'ISO2': 'ZW'}, {'Country': 'Cuba', 'Slug': 'cuba', 'ISO2': 'CU'}, {'Country': 'Syrian Arab Republic (Syria)', 'Slug': 'syria', 'ISO2': 'SY'}, {'Country': 'Brazil', 'Slug': 'brazil', 'ISO2': 'BR'}, {'Country': 'Jersey', 'Slug': 'jersey', 'ISO2': 'JE'}, {'Country': 'Saint-Martin (French part)', 'Slug': 'saint-martin-french-part', 'ISO2': 'MF'}, {'Country': 'Singapore', 'Slug': 'singapore', 'ISO2': 'SG'}, {'Country': 'Morocco', 'Slug': 'morocco', 'ISO2': 'MA'}, {'Country': 'Anguilla', 'Slug': 'anguilla', 'ISO2': 'AI'}, {'Country': 'Lebanon', 'Slug': 'lebanon', 'ISO2': 'LB'}, {'Country': 'Saint Kitts and Nevis', 'Slug': 'saint-kitts-and-nevis', 'ISO2': 'KN'}, {'Country': 'Sao Tome and Principe', 'Slug': 'sao-tome-and-principe', 'ISO2': 'ST'}, {'Country': 'Burundi', 'Slug': 'burundi', 'ISO2': 'BI'}, {'Country': 'Kuwait', 'Slug': 'kuwait', 'ISO2': 'KW'}, {'Country': 'Russian Federation', 'Slug': 'russia', 'ISO2': 'RU'}, {'Country': 'Saint Lucia', 'Slug': 'saint-lucia', 'ISO2': 'LC'}, {'Country': 'Republic of Kosovo', 'Slug': 'kosovo', 'ISO2': 'XK'}, {'Country': 'Hong Kong, SAR China', 'Slug': 'hong-kong-sar-china', 'ISO2': 'HK'}, {'Country': 'Guinea-Bissau', 'Slug': 'guinea-bissau', 'ISO2': 'GW'}, {'Country': 'Hungary', 'Slug': 'hungary', 'ISO2': 'HU'}, {'Country': 'Pakistan', 'Slug': 'pakistan', 'ISO2': 'PK'}, {'Country': 'Slovenia', 'Slug': 'slovenia', 'ISO2': 'SI'}, {'Country': 'France', 'Slug': 'france', 'ISO2': 'FR'}, {'Country': 'Germany', 'Slug': 'germany', 'ISO2': 'DE'}, {'Country': 'Greece', 'Slug': 'greece', 'ISO2': 'GR'}, {'Country': 'Lesotho', 'Slug': 'lesotho', 'ISO2': 'LS'}, {'Country': 'Sudan', 'Slug': 'sudan', 'ISO2': 'SD'}, {'Country': 'French Polynesia', 'Slug': 'french-polynesia', 'ISO2': 'PF'}, {'Country': 'Montserrat', 'Slug': 'montserrat', 'ISO2': 'MS'}, {'Country': 'Nicaragua', 'Slug': 'nicaragua', 'ISO2': 'NI'}, {'Country': 'Faroe Islands', 'Slug': 'faroe-islands', 'ISO2': 'FO'}, {'Country': 'Wallis and Futuna Islands', 'Slug': 'wallis-and-futuna-islands', 'ISO2': 'WF'}, {'Country': 'Cambodia', 'Slug': 'cambodia', 'ISO2': 'KH'}, {'Country': 'Martinique', 'Slug': 'martinique', 'ISO2': 'MQ'}, {'Country': 'San Marino', 'Slug': 'san-marino', 'ISO2': 'SM'}, {'Country': 'Ghana', 'Slug': 'ghana', 'ISO2': 'GH'}, {'Country': 'Libya', 'Slug': 'libya', 'ISO2': 'LY'}, {'Country': 'Uruguay', 'Slug': 'uruguay', 'ISO2': 'UY'}, {'Country': 'Virgin Islands, US', 'Slug': 'virgin-islands', 'ISO2': 'VI'}, {'Country': 'Yemen', 'Slug': 'yemen', 'ISO2': 'YE'}, {'Country': 'Fiji', 'Slug': 'fiji', 'ISO2': 'FJ'}, {'Country': 'Samoa', 'Slug': 'samoa', 'ISO2': 'WS'}, {'Country': 'Zambia', 'Slug': 'zambia', 'ISO2': 'ZM'}, {'Country': 'Argentina', 'Slug': 'argentina', 'ISO2': 'AR'}, {'Country': 'Somalia', 'Slug': 'somalia', 'ISO2': 'SO'}, {'Country': 'Czech Republic', 'Slug': 'czech-republic', 'ISO2': 'CZ'}, {'Country': 'Colombia', 'Slug': 'colombia', 'ISO2': 'CO'}, {'Country': 'Guinea', 'Slug': 'guinea', 'ISO2': 'GN'}, {'Country': 'India', 'Slug': 'india', 'ISO2': 'IN'}, {'Country': 'Nauru', 'Slug': 'nauru', 'ISO2': 'NR'}, {'Country': 'Swaziland', 'Slug': 'swaziland', 'ISO2': 'SZ'}, {'Country': 'Portugal', 'Slug': 'portugal', 'ISO2': 'PT'}, {'Country': 'Lithuania', 'Slug': 'lithuania', 'ISO2': 'LT'}, {'Country': 'Burkina Faso', 'Slug': 'burkina-faso', 'ISO2': 'BF'}, {'Country': 'Gibraltar', 'Slug': 'gibraltar', 'ISO2': 'GI'}, {'Country': 'Korea (North)', 'Slug': 'korea-north', 'ISO2': 'KP'}, {'Country': 'Marshall Islands', 'Slug': 'marshall-islands', 'ISO2': 'MH'}, {'Country': 'Moldova', 'Slug': 'moldova', 'ISO2': 'MD'}, {'Country': 'Rwanda', 'Slug': 'rwanda', 'ISO2': 'RW'}, {'Country': 'Seychelles', 'Slug': 'seychelles', 'ISO2': 'SC'}, {'Country': 'Central African Republic', 'Slug': 'central-african-republic', 'ISO2': 'CF'}, {'Country': 'ALA Aland Islands', 'Slug': 'ala-aland-islands', 'ISO2': 'AX'}, {'Country': 'Antarctica', 'Slug': 'antarctica', 'ISO2': 'AQ'}, {'Country': 'Mexico', 'Slug': 'mexico', 'ISO2': 'MX'}, {'Country': 'Netherlands', 'Slug': 'netherlands', 'ISO2': 'NL'}, {'Country': 'Panama', 'Slug': 'panama', 'ISO2': 'PA'}, {'Country': 'Bhutan', 'Slug': 'bhutan', 'ISO2': 'BT'}, {'Country': 'Estonia', 'Slug': 'estonia', 'ISO2': 'EE'}, {'Country': 'New Caledonia', 'Slug': 'new-caledonia', 'ISO2': 'NC'}, {'Country': 'South Africa', 'Slug': 'south-africa', 'ISO2': 'ZA'}, {'Country': 'Switzerland', 'Slug': 'switzerland', 'ISO2': 'CH'}, {'Country': 'Algeria', 'Slug': 'algeria', 'ISO2': 'DZ'}, {'Country': 'Palau', 'Slug': 'palau', 'ISO2': 'PW'}, {'Country': 'Qatar', 'Slug': 'qatar', 'ISO2': 'QA'}, {'Country': 'Thailand', 'Slug': 'thailand', 'ISO2': 'TH'}, {'Country': 'Micronesia, Federated States of', 'Slug': 'micronesia', 'ISO2': 'FM'}, {'Country': 'Australia', 'Slug': 'australia', 'ISO2': 'AU'}, {'Country': 'Uganda', 'Slug': 'uganda', 'ISO2': 'UG'}, {'Country': 'Uzbekistan', 'Slug': 'uzbekistan', 'ISO2': 'UZ'}, {'Country': 'Haiti', 'Slug': 'haiti', 'ISO2': 'HT'}, {'Country': 'Madagascar', 'Slug': 'madagascar', 'ISO2': 'MG'}, {'Country': 'Monaco', 'Slug': 'monaco', 'ISO2': 'MC'}, {'Country': 'Philippines', 'Slug': 'philippines', 'ISO2': 'PH'}, {'Country': 'Armenia', 'Slug': 'armenia', 'ISO2': 'AM'}, {'Country': 'Korea (South)', 'Slug': 'korea-south', 'ISO2': 'KR'}, {'Country': 'Luxembourg', 'Slug': 'luxembourg', 'ISO2': 'LU'}, {'Country': 'Malta', 'Slug': 'malta', 'ISO2': 'MT'}, {'Country': 'Senegal', 'Slug': 'senegal', 'ISO2': 'SN'}, {'Country': 'Croatia', 'Slug': 'croatia', 'ISO2': 'HR'}, {'Country': 'British Indian Ocean Territory', 'Slug': 'british-indian-ocean-territory', 'ISO2': 'IO'}, {'Country': 'Nigeria', 'Slug': 'nigeria', 'ISO2': 'NG'}, {'Country': 'Togo', 'Slug': 'togo', 'ISO2': 'TG'}, {'Country': 'Western Sahara', 'Slug': 'western-sahara', 'ISO2': 'EH'}, {'Country': 'Isle of Man', 'Slug': 'isle-of-man', 'ISO2': 'IM'}, {'Country': 'Mali', 'Slug': 'mali', 'ISO2': 'ML'}, {'Country': 'Saudi Arabia', 'Slug': 'saudi-arabia', 'ISO2': 'SA'}, {'Country': 'Slovakia', 'Slug': 'slovakia', 'ISO2': 'SK'}, {'Country': 'Suriname', 'Slug': 'suriname', 'ISO2': 'SR'}, {'Country': 'Sweden', 'Slug': 'sweden', 'ISO2': 'SE'}, {'Country': 'Northern Mariana Islands', 'Slug': 'northern-mariana-islands', 'ISO2': 'MP'}, {'Country': 'Réunion', 'Slug': 'réunion', 'ISO2': 'RE'}, {'Country': 'French Guiana', 'Slug': 'french-guiana', 'ISO2': 'GF'}, {'Country': 'Iraq', 'Slug': 'iraq', 'ISO2': 'IQ'}, {'Country': 'Norfolk Island', 'Slug': 'norfolk-island', 'ISO2': 'NF'}, {'Country': 'Romania', 'Slug': 'romania', 'ISO2': 'RO'}, {'Country': 'Solomon Islands', 'Slug': 'solomon-islands', 'ISO2': 'SB'}, {'Country': 'United Arab Emirates', 'Slug': 'united-arab-emirates', 'ISO2': 'AE'}, {'Country': 'Gambia', 'Slug': 'gambia', 'ISO2': 'GM'}, {'Country': 'Ireland', 'Slug': 'ireland', 'ISO2': 'IE'}, {'Country': 'Peru', 'Slug': 'peru', 'ISO2': 'PE'}, {'Country': 'Tajikistan', 'Slug': 'tajikistan', 'ISO2': 'TJ'}, {'Country': 'Denmark', 'Slug': 'denmark', 'ISO2': 'DK'}, {'Country': 'Azerbaijan', 'Slug': 'azerbaijan', 'ISO2': 'AZ'}, {'Country': 'Belarus', 'Slug': 'belarus', 'ISO2': 'BY'}, {'Country': 'Belize', 'Slug': 'belize', 'ISO2': 'BZ'}, {'Country': 'Chile', 'Slug': 'chile', 'ISO2': 'CL'}, {'Country': 'Honduras', 'Slug': 'honduras', 'ISO2': 'HN'}, {'Country': 'United Kingdom', 'Slug': 'united-kingdom', 'ISO2': 'GB'}, {'Country': 'Cocos (Keeling) Islands', 'Slug': 'cocos-keeling-islands', 'ISO2': 'CC'}, {'Country': 'Iran, Islamic Republic of', 'Slug': 'iran', 'ISO2': 'IR'}, {'Country': 'Kenya', 'Slug': 'kenya', 'ISO2': 'KE'}, {'Country': 'Taiwan, Republic of China', 'Slug': 'taiwan', 'ISO2': 'TW'}, {'Country': 'Mauritius', 'Slug': 'mauritius', 'ISO2': 'MU'}, {'Country': 'Niger', 'Slug': 'niger', 'ISO2': 'NE'}, {'Country': 'China', 'Slug': 'china', 'ISO2': 'CN'}, {'Country': 'Christmas Island', 'Slug': 'christmas-island', 'ISO2': 'CX'}, {'Country': 'Malawi', 'Slug': 'malawi', 'ISO2': 'MW'}, {'Country': 'Namibia', 'Slug': 'namibia', 'ISO2': 'NA'}, {'Country': 'Tanzania, United Republic of', 'Slug': 'tanzania', 'ISO2': 'TZ'}, {'Country': 'Trinidad and Tobago', 'Slug': 'trinidad-and-tobago', 'ISO2': 'TT'}, {'Country': 'Barbados', 'Slug': 'barbados', 'ISO2': 'BB'}, {'Country': 'Guernsey', 'Slug': 'guernsey', 'ISO2': 'GG'}, {'Country': 'Puerto Rico', 'Slug': 'puerto-rico', 'ISO2': 'PR'}, {'Country': 'Brunei Darussalam', 'Slug': 'brunei', 'ISO2': 'BN'}, {'Country': 'Congo (Brazzaville)', 'Slug': 'congo-brazzaville', 'ISO2': 'CG'}, {'Country': 'Guam', 'Slug': 'guam', 'ISO2': 'GU'}, {'Country': 'Jordan', 'Slug': 'jordan', 'ISO2': 'JO'}, {'Country': 'Malaysia', 'Slug': 'malaysia', 'ISO2': 'MY'}, {'Country': 'Austria', 'Slug': 'austria', 'ISO2': 'AT'}, {'Country': 'Georgia', 'Slug': 'georgia', 'ISO2': 'GE'}, {'Country': 'Grenada', 'Slug': 'grenada', 'ISO2': 'GD'}, {'Country': 'Myanmar', 'Slug': 'myanmar', 'ISO2': 'MM'}, {'Country': 'Nepal', 'Slug': 'nepal', 'ISO2': 'NP'}, {'Country': 'Sri Lanka', 'Slug': 'sri-lanka', 'ISO2': 'LK'}, {'Country': 'Bosnia and Herzegovina', 'Slug': 'bosnia-and-herzegovina', 'ISO2': 'BA'}, {'Country': 'Tokelau', 'Slug': 'tokelau', 'ISO2': 'TK'}, {'Country': 'Tunisia', 'Slug': 'tunisia', 'ISO2': 'TN'}, {'Country': 'Tuvalu', 'Slug': 'tuvalu', 'ISO2': 'TV'}, {'Country': 'Belgium', 'Slug': 'belgium', 'ISO2': 'BE'}, {'Country': 'Dominican Republic', 'Slug': 'dominican-republic', 'ISO2': 'DO'}, {'Country': 'Egypt', 'Slug': 'egypt', 'ISO2': 'EG'}, {'Country': 'Netherlands Antilles', 'Slug': 'netherlands-antilles', 'ISO2': 'AN'}, {'Country': 'Andorra', 'Slug': 'andorra', 'ISO2': 'AD'}, {'Country': 'Saint-Barthélemy', 'Slug': 'saint-barthélemy', 'ISO2': 'BL'}, {'Country': 'Bahamas', 'Slug': 'bahamas', 'ISO2': 'BS'}, {'Country': 'Comoros', 'Slug': 'comoros', 'ISO2': 'KM'}, {'Country': 'Costa Rica', 'Slug': 'costa-rica', 'ISO2': 'CR'}, {'Country': 'Equatorial Guinea', 'Slug': 'equatorial-guinea', 'ISO2': 'GQ'}, {'Country': 'Heard and Mcdonald Islands', 'Slug': 'heard-and-mcdonald-islands', 'ISO2': 'HM'}, {'Country': 'American Samoa', 'Slug': 'american-samoa', 'ISO2': 'AS'}, {'Country': 'Mozambique', 'Slug': 'mozambique', 'ISO2': 'MZ'}, {'Country': 'New Zealand', 'Slug': 'new-zealand', 'ISO2': 'NZ'}, {'Country': 'Saint Helena', 'Slug': 'saint-helena', 'ISO2': 'SH'}, {'Country': 'Maldives', 'Slug': 'maldives', 'ISO2': 'MV'}, {'Country': 'Bulgaria', 'Slug': 'bulgaria', 'ISO2': 'BG'}, {'Country': 'French Southern Territories', 'Slug': 'french-southern-territories', 'ISO2': 'TF'}, {'Country': 'United States of America', 'Slug': 'united-states', 'ISO2': 'US'}, {'Country': 'Viet Nam', 'Slug': 'vietnam', 'ISO2': 'VN'}, {'Country': 'Botswana', 'Slug': 'botswana', 'ISO2': 'BW'}, {'Country': \"Côte d'Ivoire\", 'Slug': 'cote-divoire', 'ISO2': 'CI'}, {'Country': 'Svalbard and Jan Mayen Islands', 'Slug': 'svalbard-and-jan-mayen-islands', 'ISO2': 'SJ'}, {'Country': 'Bahrain', 'Slug': 'bahrain', 'ISO2': 'BH'}, {'Country': 'Cook Islands', 'Slug': 'cook-islands', 'ISO2': 'CK'}, {'Country': 'Italy', 'Slug': 'italy', 'ISO2': 'IT'}, {'Country': 'Liechtenstein', 'Slug': 'liechtenstein', 'ISO2': 'LI'}, {'Country': 'Vanuatu', 'Slug': 'vanuatu', 'ISO2': 'VU'}, {'Country': 'Afghanistan', 'Slug': 'afghanistan', 'ISO2': 'AF'}, {'Country': 'Ethiopia', 'Slug': 'ethiopia', 'ISO2': 'ET'}, {'Country': 'Finland', 'Slug': 'finland', 'ISO2': 'FI'}, {'Country': 'Gabon', 'Slug': 'gabon', 'ISO2': 'GA'}, {'Country': 'Greenland', 'Slug': 'greenland', 'ISO2': 'GL'}, {'Country': 'Saint Pierre and Miquelon', 'Slug': 'saint-pierre-and-miquelon', 'ISO2': 'PM'}, {'Country': 'Ukraine', 'Slug': 'ukraine', 'ISO2': 'UA'}, {'Country': 'Cyprus', 'Slug': 'cyprus', 'ISO2': 'CY'}, {'Country': 'Benin', 'Slug': 'benin', 'ISO2': 'BJ'}, {'Country': 'Cape Verde', 'Slug': 'cape-verde', 'ISO2': 'CV'}, {'Country': 'Japan', 'Slug': 'japan', 'ISO2': 'JP'}, {'Country': 'Guyana', 'Slug': 'guyana', 'ISO2': 'GY'}, {'Country': 'Kazakhstan', 'Slug': 'kazakhstan', 'ISO2': 'KZ'}, {'Country': 'Turks and Caicos Islands', 'Slug': 'turks-and-caicos-islands', 'ISO2': 'TC'}, {'Country': 'Bermuda', 'Slug': 'bermuda', 'ISO2': 'BM'}, {'Country': 'Mongolia', 'Slug': 'mongolia', 'ISO2': 'MN'}, {'Country': 'Guadeloupe', 'Slug': 'guadeloupe', 'ISO2': 'GP'}, {'Country': 'Kiribati', 'Slug': 'kiribati', 'ISO2': 'KI'}, {'Country': 'Falkland Islands (Malvinas)', 'Slug': 'falkland-islands-malvinas', 'ISO2': 'FK'}, {'Country': 'Bangladesh', 'Slug': 'bangladesh', 'ISO2': 'BD'}, {'Country': 'Canada', 'Slug': 'canada', 'ISO2': 'CA'}, {'Country': 'El Salvador', 'Slug': 'el-salvador', 'ISO2': 'SV'}, {'Country': 'Guatemala', 'Slug': 'guatemala', 'ISO2': 'GT'}, {'Country': 'Mauritania', 'Slug': 'mauritania', 'ISO2': 'MR'}, {'Country': 'Niue', 'Slug': 'niue', 'ISO2': 'NU'}, {'Country': 'Papua New Guinea', 'Slug': 'papua-new-guinea', 'ISO2': 'PG'}, {'Country': 'Poland', 'Slug': 'poland', 'ISO2': 'PL'}, {'Country': 'US Minor Outlying Islands', 'Slug': 'us-minor-outlying-islands', 'ISO2': 'UM'}, {'Country': 'Pitcairn', 'Slug': 'pitcairn', 'ISO2': 'PN'}, {'Country': 'Antigua and Barbuda', 'Slug': 'antigua-and-barbuda', 'ISO2': 'AG'}, {'Country': 'Eritrea', 'Slug': 'eritrea', 'ISO2': 'ER'}, {'Country': 'Macao, SAR China', 'Slug': 'macao-sar-china', 'ISO2': 'MO'}, {'Country': 'Mayotte', 'Slug': 'mayotte', 'ISO2': 'YT'}, {'Country': 'Norway', 'Slug': 'norway', 'ISO2': 'NO'}, {'Country': 'Sierra Leone', 'Slug': 'sierra-leone', 'ISO2': 'SL'}, {'Country': 'Cayman Islands', 'Slug': 'cayman-islands', 'ISO2': 'KY'}, {'Country': 'Lao PDR', 'Slug': 'lao-pdr', 'ISO2': 'LA'}, {'Country': 'Tonga', 'Slug': 'tonga', 'ISO2': 'TO'}]\n"
     ]
    }
   ],
   "source": [
    "covid19_api_countries = requests.get('https://api.covid19api.com/countries')\n",
    "covid19_api_countries_json = covid19_api_countries.json()\n",
    "print(covid19_api_countries_json)\n"
   ]
  },
  {
   "cell_type": "code",
   "execution_count": 13,
   "metadata": {},
   "outputs": [
    {
     "data": {
      "text/html": [
       "<div>\n",
       "<style scoped>\n",
       "    .dataframe tbody tr th:only-of-type {\n",
       "        vertical-align: middle;\n",
       "    }\n",
       "\n",
       "    .dataframe tbody tr th {\n",
       "        vertical-align: top;\n",
       "    }\n",
       "\n",
       "    .dataframe thead th {\n",
       "        text-align: right;\n",
       "    }\n",
       "</style>\n",
       "<table border=\"1\" class=\"dataframe\">\n",
       "  <thead>\n",
       "    <tr style=\"text-align: right;\">\n",
       "      <th></th>\n",
       "      <th>Country</th>\n",
       "      <th>Slug</th>\n",
       "      <th>ISO2</th>\n",
       "    </tr>\n",
       "  </thead>\n",
       "  <tbody>\n",
       "    <tr>\n",
       "      <th>0</th>\n",
       "      <td>Congo (Kinshasa)</td>\n",
       "      <td>congo-kinshasa</td>\n",
       "      <td>CD</td>\n",
       "    </tr>\n",
       "    <tr>\n",
       "      <th>1</th>\n",
       "      <td>Ecuador</td>\n",
       "      <td>ecuador</td>\n",
       "      <td>EC</td>\n",
       "    </tr>\n",
       "    <tr>\n",
       "      <th>2</th>\n",
       "      <td>Indonesia</td>\n",
       "      <td>indonesia</td>\n",
       "      <td>ID</td>\n",
       "    </tr>\n",
       "    <tr>\n",
       "      <th>3</th>\n",
       "      <td>Israel</td>\n",
       "      <td>israel</td>\n",
       "      <td>IL</td>\n",
       "    </tr>\n",
       "    <tr>\n",
       "      <th>4</th>\n",
       "      <td>Jamaica</td>\n",
       "      <td>jamaica</td>\n",
       "      <td>JM</td>\n",
       "    </tr>\n",
       "    <tr>\n",
       "      <th>...</th>\n",
       "      <td>...</td>\n",
       "      <td>...</td>\n",
       "      <td>...</td>\n",
       "    </tr>\n",
       "    <tr>\n",
       "      <th>243</th>\n",
       "      <td>Norway</td>\n",
       "      <td>norway</td>\n",
       "      <td>NO</td>\n",
       "    </tr>\n",
       "    <tr>\n",
       "      <th>244</th>\n",
       "      <td>Sierra Leone</td>\n",
       "      <td>sierra-leone</td>\n",
       "      <td>SL</td>\n",
       "    </tr>\n",
       "    <tr>\n",
       "      <th>245</th>\n",
       "      <td>Cayman Islands</td>\n",
       "      <td>cayman-islands</td>\n",
       "      <td>KY</td>\n",
       "    </tr>\n",
       "    <tr>\n",
       "      <th>246</th>\n",
       "      <td>Lao PDR</td>\n",
       "      <td>lao-pdr</td>\n",
       "      <td>LA</td>\n",
       "    </tr>\n",
       "    <tr>\n",
       "      <th>247</th>\n",
       "      <td>Tonga</td>\n",
       "      <td>tonga</td>\n",
       "      <td>TO</td>\n",
       "    </tr>\n",
       "  </tbody>\n",
       "</table>\n",
       "<p>248 rows × 3 columns</p>\n",
       "</div>"
      ],
      "text/plain": [
       "              Country            Slug ISO2\n",
       "0    Congo (Kinshasa)  congo-kinshasa   CD\n",
       "1             Ecuador         ecuador   EC\n",
       "2           Indonesia       indonesia   ID\n",
       "3              Israel          israel   IL\n",
       "4             Jamaica         jamaica   JM\n",
       "..                ...             ...  ...\n",
       "243            Norway          norway   NO\n",
       "244      Sierra Leone    sierra-leone   SL\n",
       "245    Cayman Islands  cayman-islands   KY\n",
       "246           Lao PDR         lao-pdr   LA\n",
       "247             Tonga           tonga   TO\n",
       "\n",
       "[248 rows x 3 columns]"
      ]
     },
     "execution_count": 13,
     "metadata": {},
     "output_type": "execute_result"
    }
   ],
   "source": [
    "covid19_api_countries_df = pd.DataFrame(covid19_api_countries_json)\n",
    "covid19_api_countries_df"
   ]
  },
  {
   "cell_type": "markdown",
   "metadata": {},
   "source": [
    "Get slug for Belgium needed to use the other endpoints of covid19api"
   ]
  },
  {
   "cell_type": "code",
   "execution_count": 14,
   "metadata": {},
   "outputs": [
    {
     "data": {
      "text/plain": [
       "182    belgium\n",
       "Name: Slug, dtype: object"
      ]
     },
     "execution_count": 14,
     "metadata": {},
     "output_type": "execute_result"
    }
   ],
   "source": [
    "covid19_api_countries_df[covid19_api_countries_df[\"Country\"] == \"Belgium\"][\"Slug\"]"
   ]
  },
  {
   "cell_type": "markdown",
   "metadata": {},
   "source": [
    "Get total confirmed covid cases in October for Belgium"
   ]
  },
  {
   "cell_type": "code",
   "execution_count": 15,
   "metadata": {},
   "outputs": [
    {
     "name": "stdout",
     "output_type": "stream",
     "text": [
      "[{'Country': 'Belgium', 'CountryCode': '', 'Province': '', 'City': '', 'CityCode': '', 'Lat': '0', 'Lon': '0', 'Cases': 121059, 'Status': 'confirmed', 'Date': '2020-10-01T00:00:00Z'}, {'Country': 'Belgium', 'CountryCode': '', 'Province': '', 'City': '', 'CityCode': '', 'Lat': '0', 'Lon': '0', 'Cases': 124234, 'Status': 'confirmed', 'Date': '2020-10-02T00:00:00Z'}, {'Country': 'Belgium', 'CountryCode': '', 'Province': '', 'City': '', 'CityCode': '', 'Lat': '0', 'Lon': '0', 'Cases': 127623, 'Status': 'confirmed', 'Date': '2020-10-03T00:00:00Z'}, {'Country': 'Belgium', 'CountryCode': '', 'Province': '', 'City': '', 'CityCode': '', 'Lat': '0', 'Lon': '0', 'Cases': 130235, 'Status': 'confirmed', 'Date': '2020-10-04T00:00:00Z'}, {'Country': 'Belgium', 'CountryCode': '', 'Province': '', 'City': '', 'CityCode': '', 'Lat': '0', 'Lon': '0', 'Cases': 132203, 'Status': 'confirmed', 'Date': '2020-10-05T00:00:00Z'}, {'Country': 'Belgium', 'CountryCode': '', 'Province': '', 'City': '', 'CityCode': '', 'Lat': '0', 'Lon': '0', 'Cases': 134291, 'Status': 'confirmed', 'Date': '2020-10-06T00:00:00Z'}, {'Country': 'Belgium', 'CountryCode': '', 'Province': '', 'City': '', 'CityCode': '', 'Lat': '0', 'Lon': '0', 'Cases': 137868, 'Status': 'confirmed', 'Date': '2020-10-07T00:00:00Z'}, {'Country': 'Belgium', 'CountryCode': '', 'Province': '', 'City': '', 'CityCode': '', 'Lat': '0', 'Lon': '0', 'Cases': 143596, 'Status': 'confirmed', 'Date': '2020-10-08T00:00:00Z'}, {'Country': 'Belgium', 'CountryCode': '', 'Province': '', 'City': '', 'CityCode': '', 'Lat': '0', 'Lon': '0', 'Cases': 148981, 'Status': 'confirmed', 'Date': '2020-10-09T00:00:00Z'}, {'Country': 'Belgium', 'CountryCode': '', 'Province': '', 'City': '', 'CityCode': '', 'Lat': '0', 'Lon': '0', 'Cases': 156931, 'Status': 'confirmed', 'Date': '2020-10-10T00:00:00Z'}, {'Country': 'Belgium', 'CountryCode': '', 'Province': '', 'City': '', 'CityCode': '', 'Lat': '0', 'Lon': '0', 'Cases': 162258, 'Status': 'confirmed', 'Date': '2020-10-11T00:00:00Z'}, {'Country': 'Belgium', 'CountryCode': '', 'Province': '', 'City': '', 'CityCode': '', 'Lat': '0', 'Lon': '0', 'Cases': 165880, 'Status': 'confirmed', 'Date': '2020-10-12T00:00:00Z'}, {'Country': 'Belgium', 'CountryCode': '', 'Province': '', 'City': '', 'CityCode': '', 'Lat': '0', 'Lon': '0', 'Cases': 173240, 'Status': 'confirmed', 'Date': '2020-10-13T00:00:00Z'}, {'Country': 'Belgium', 'CountryCode': '', 'Province': '', 'City': '', 'CityCode': '', 'Lat': '0', 'Lon': '0', 'Cases': 181511, 'Status': 'confirmed', 'Date': '2020-10-14T00:00:00Z'}, {'Country': 'Belgium', 'CountryCode': '', 'Province': '', 'City': '', 'CityCode': '', 'Lat': '0', 'Lon': '0', 'Cases': 191959, 'Status': 'confirmed', 'Date': '2020-10-15T00:00:00Z'}, {'Country': 'Belgium', 'CountryCode': '', 'Province': '', 'City': '', 'CityCode': '', 'Lat': '0', 'Lon': '0', 'Cases': 202151, 'Status': 'confirmed', 'Date': '2020-10-16T00:00:00Z'}, {'Country': 'Belgium', 'CountryCode': '', 'Province': '', 'City': '', 'CityCode': '', 'Lat': '0', 'Lon': '0', 'Cases': 213115, 'Status': 'confirmed', 'Date': '2020-10-17T00:00:00Z'}, {'Country': 'Belgium', 'CountryCode': '', 'Province': '', 'City': '', 'CityCode': '', 'Lat': '0', 'Lon': '0', 'Cases': 222253, 'Status': 'confirmed', 'Date': '2020-10-18T00:00:00Z'}, {'Country': 'Belgium', 'CountryCode': '', 'Province': '', 'City': '', 'CityCode': '', 'Lat': '0', 'Lon': '0', 'Cases': 230480, 'Status': 'confirmed', 'Date': '2020-10-19T00:00:00Z'}, {'Country': 'Belgium', 'CountryCode': '', 'Province': '', 'City': '', 'CityCode': '', 'Lat': '0', 'Lon': '0', 'Cases': 240159, 'Status': 'confirmed', 'Date': '2020-10-20T00:00:00Z'}, {'Country': 'Belgium', 'CountryCode': '', 'Province': '', 'City': '', 'CityCode': '', 'Lat': '0', 'Lon': '0', 'Cases': 253386, 'Status': 'confirmed', 'Date': '2020-10-21T00:00:00Z'}, {'Country': 'Belgium', 'CountryCode': '', 'Province': '', 'City': '', 'CityCode': '', 'Lat': '0', 'Lon': '0', 'Cases': 270132, 'Status': 'confirmed', 'Date': '2020-10-22T00:00:00Z'}, {'Country': 'Belgium', 'CountryCode': '', 'Province': '', 'City': '', 'CityCode': '', 'Lat': '0', 'Lon': '0', 'Cases': 287700, 'Status': 'confirmed', 'Date': '2020-10-23T00:00:00Z'}, {'Country': 'Belgium', 'CountryCode': '', 'Province': '', 'City': '', 'CityCode': '', 'Lat': '0', 'Lon': '0', 'Cases': 305409, 'Status': 'confirmed', 'Date': '2020-10-24T00:00:00Z'}, {'Country': 'Belgium', 'CountryCode': '', 'Province': '', 'City': '', 'CityCode': '', 'Lat': '0', 'Lon': '0', 'Cases': 321031, 'Status': 'confirmed', 'Date': '2020-10-25T00:00:00Z'}, {'Country': 'Belgium', 'CountryCode': '', 'Province': '', 'City': '', 'CityCode': '', 'Lat': '0', 'Lon': '0', 'Cases': 333718, 'Status': 'confirmed', 'Date': '2020-10-26T00:00:00Z'}, {'Country': 'Belgium', 'CountryCode': '', 'Province': '', 'City': '', 'CityCode': '', 'Lat': '0', 'Lon': '0', 'Cases': 347289, 'Status': 'confirmed', 'Date': '2020-10-27T00:00:00Z'}, {'Country': 'Belgium', 'CountryCode': '', 'Province': '', 'City': '', 'CityCode': '', 'Lat': '0', 'Lon': '0', 'Cases': 368337, 'Status': 'confirmed', 'Date': '2020-10-28T00:00:00Z'}, {'Country': 'Belgium', 'CountryCode': '', 'Province': '', 'City': '', 'CityCode': '', 'Lat': '0', 'Lon': '0', 'Cases': 392258, 'Status': 'confirmed', 'Date': '2020-10-29T00:00:00Z'}, {'Country': 'Belgium', 'CountryCode': '', 'Province': '', 'City': '', 'CityCode': '', 'Lat': '0', 'Lon': '0', 'Cases': 412314, 'Status': 'confirmed', 'Date': '2020-10-30T00:00:00Z'}, {'Country': 'Belgium', 'CountryCode': '', 'Province': '', 'City': '', 'CityCode': '', 'Lat': '0', 'Lon': '0', 'Cases': 429229, 'Status': 'confirmed', 'Date': '2020-10-31T00:00:00Z'}, {'Country': 'Belgium', 'CountryCode': '', 'Province': '', 'City': '', 'CityCode': '', 'Lat': '0', 'Lon': '0', 'Cases': 441018, 'Status': 'confirmed', 'Date': '2020-11-01T00:00:00Z'}]\n"
     ]
    }
   ],
   "source": [
    "covid19_api_confirmed_cases = requests.get('https://api.covid19api.com/total/country/belgium/status/confirmed?from=2020-10-01T00:00:00Z&to=2020-11-01T00:00:00Z')\n",
    "covid19_api_confirmed_cases_json = covid19_api_confirmed_cases.json()\n",
    "print(covid19_api_confirmed_cases_json)"
   ]
  },
  {
   "cell_type": "code",
   "execution_count": 16,
   "metadata": {},
   "outputs": [
    {
     "data": {
      "text/plain": [
       "429229"
      ]
     },
     "execution_count": 16,
     "metadata": {},
     "output_type": "execute_result"
    }
   ],
   "source": [
    "covid19_api_confirmed_cases_df = pd.DataFrame(covid19_api_confirmed_cases_json)\n",
    "covid19_api_confirmed_cases_df.iloc[-2][\"Cases\"]"
   ]
  },
  {
   "cell_type": "markdown",
   "metadata": {},
   "source": [
    "## Name of month to number mapping"
   ]
  },
  {
   "cell_type": "code",
   "execution_count": 17,
   "metadata": {},
   "outputs": [],
   "source": [
    "def month_string_to_number(string):\n",
    "    m = {\n",
    "        'jan': 1,\n",
    "        'feb': 2,\n",
    "        'mar': 3,\n",
    "        'apr':4,\n",
    "         'may':5,\n",
    "         'jun':6,\n",
    "         'jul':7,\n",
    "         'aug':8,\n",
    "         'sep':9,\n",
    "         'oct':10,\n",
    "         'nov':11,\n",
    "         'dec':12\n",
    "        }\n",
    "    s = string.strip()[:3].lower()\n",
    "\n",
    "    try:\n",
    "        out = m[s]\n",
    "        return out\n",
    "    except:\n",
    "        raise ValueError('Not a month')"
   ]
  },
  {
   "cell_type": "code",
   "execution_count": 18,
   "metadata": {},
   "outputs": [
    {
     "data": {
      "text/plain": [
       "10"
      ]
     },
     "execution_count": 18,
     "metadata": {},
     "output_type": "execute_result"
    }
   ],
   "source": [
    "month_string_to_number(\"October\")"
   ]
  },
  {
   "cell_type": "markdown",
   "metadata": {},
   "source": [
    "#### Now that all the necessary data is available, a function is made which will reproduce the given test case example. \n",
    "#### The value for country and month can be chosen. "
   ]
  },
  {
   "cell_type": "code",
   "execution_count": 19,
   "metadata": {},
   "outputs": [],
   "source": [
    "def confirmed_covid_cases_2020(country, month):\n",
    "    # get population from given country\n",
    "    population = restcountries_df[restcountries_df[\"country_name\"] == country][\"country_population\"]\n",
    "\n",
    "    # get the list of the vaccines currently being used in given country\n",
    "    vaccines = vaccines_df[vaccines_df[\"location\"] == country].iloc[-1][\"vaccine\"]\n",
    "\n",
    "    # get slug for given country to use the covid19api to find total confirmed \n",
    "    # covid cases at the end of the given month for that country\n",
    "    slug = covid19_api_countries_df[covid19_api_countries_df[\"Country\"] == country][\"Slug\"].to_string(index=False)\n",
    "\n",
    "    # get corresponding number of month for the given month (which is given as a string)\n",
    "    number_of_given_month = month_string_to_number(month)\n",
    "\n",
    "    # get total of confirmed covid cases at the end of the given month for the given country\n",
    "    if number_of_given_month == 12:\n",
    "        covid19_api_confirmed_cases = requests.get('https://api.covid19api.com/total/country/' + slug +'/status/confirmed?from=2020-' + str(number_of_given_month) +'-01T00:00:00Z&to=2020-' + str(number_of_given_month) +'-31T00:00:00Z')\n",
    "        covid19_api_confirmed_cases_json = covid19_api_confirmed_cases.json()\n",
    "        covid19_api_confirmed_cases_df = pd.DataFrame(covid19_api_confirmed_cases_json)\n",
    "        confirmed_cases = covid19_api_confirmed_cases_df.iloc[-1][\"Cases\"]\n",
    "    else:\n",
    "        covid19_api_confirmed_cases = requests.get('https://api.covid19api.com/total/country/' + slug +'/status/confirmed?from=2020-' + str(number_of_given_month) +'-01T00:00:00Z&to=2020-' + str(number_of_given_month+1) +'-01T00:00:00Z')\n",
    "        covid19_api_confirmed_cases_json = covid19_api_confirmed_cases.json()\n",
    "        covid19_api_confirmed_cases_df = pd.DataFrame(covid19_api_confirmed_cases_json)\n",
    "        confirmed_cases = covid19_api_confirmed_cases_df.iloc[-2][\"Cases\"]\n",
    "\n",
    "    # get percentage of total population\n",
    "    percentage = int(round((confirmed_cases / population) * 100))\n",
    "\n",
    "    print(f'Confirmed cases in {month} = {percentage}% of the total population of {country}')\n",
    "    print(f'Currently vaccinating with: {vaccines}')\n",
    "           \n"
   ]
  },
  {
   "cell_type": "code",
   "execution_count": 20,
   "metadata": {},
   "outputs": [
    {
     "name": "stdout",
     "output_type": "stream",
     "text": [
      "Confirmed cases in October = 4% of the total population of Belgium\n",
      "Currently vaccinating with: Johnson&Johnson, Moderna, Novavax, Oxford/AstraZeneca, Pfizer/BioNTech\n"
     ]
    }
   ],
   "source": [
    "confirmed_covid_cases_2020(\"Belgium\", \"October\")"
   ]
  }
 ],
 "metadata": {
  "interpreter": {
   "hash": "b016529e095e6967d28524c6b1de33d1d0ad61d2d6f5075c2d64739f6c0dfc76"
  },
  "kernelspec": {
   "display_name": "Python 3.9.0 64-bit ('tensorflow_m1': conda)",
   "language": "python",
   "name": "python3"
  },
  "language_info": {
   "codemirror_mode": {
    "name": "ipython",
    "version": 3
   },
   "file_extension": ".py",
   "mimetype": "text/x-python",
   "name": "python",
   "nbconvert_exporter": "python",
   "pygments_lexer": "ipython3",
   "version": "3.9.0"
  },
  "orig_nbformat": 4
 },
 "nbformat": 4,
 "nbformat_minor": 2
}
